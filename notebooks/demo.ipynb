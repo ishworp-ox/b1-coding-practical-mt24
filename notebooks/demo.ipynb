{
 "cells": [
  {
   "cell_type": "code",
   "execution_count": 1,
   "metadata": {},
   "outputs": [],
   "source": [
    "# Relevant Jupyter notebook extensions \n",
    "%load_ext autoreload\n",
    "%autoreload 2"
   ]
  },
  {
   "cell_type": "code",
   "execution_count": null,
   "metadata": {},
   "outputs": [],
   "source": [
    "# Double checks the current python path\n",
    "import sys  \n",
    "print(sys.path)"
   ]
  },
  {
   "cell_type": "markdown",
   "metadata": {},
   "source": [
    "# Simulate closed-loop\n",
    "After implementing your control functionality, you can simulate the closed-loop with code that looks something like this..."
   ]
  },
  {
   "cell_type": "code",
   "execution_count": 5,
   "metadata": {},
   "outputs": [],
   "source": [
    "# Imports relevant modules\n",
    "import sys\n",
    "import os\n",
    "import numpy as np\n",
    "\n",
    "# Adds the B1-CODING-PRACTICAL-MT24 directory to the Python path\n",
    "sys.path.append(os.path.abspath('..'))\n",
    "\n",
    "# Imports custom classes and functions\n",
    "from uuv_mission.dynamic import Submarine, ClosedLoop, Mission\n",
    "from uuv_mission.control import PDController"
   ]
  },
  {
   "cell_type": "markdown",
   "metadata": {},
   "source": [
    "Finding the Best Contoller Gains"
   ]
  },
  {
   "cell_type": "code",
   "execution_count": null,
   "metadata": {},
   "outputs": [],
   "source": [
    "# the range of values for controller gains and initialised matrix to store the errors for each combination\n",
    "KP_VALUES = np.linspace(0, 1, 50)\n",
    "KD_VALUES = np.linspace(0, 1, 50)\n",
    "KpKdError = np.zeros((len(KP_VALUES), len(KD_VALUES)))\n",
    "num_missions = 50\n",
    "# finding the best value of Kp and Kd averaged over 50 random missions\n",
    "for i in range(num_missions):\n",
    "    # creating one of the 50 random missions\n",
    "    mission = Mission.random_mission(100, 20)\n",
    "    # looping through all the combinations of Kp and Kd values\n",
    "    for kp_index, Kp in enumerate(KP_VALUES):\n",
    "        for kd_index, Kd in enumerate(KD_VALUES):\n",
    "            sub = Submarine()\n",
    "            controller = PDController(K_P=Kp, K_D=Kd)\n",
    "            closed_loop = ClosedLoop(sub, controller)\n",
    "            trajectory = closed_loop.simulate_with_random_disturbances(mission)\n",
    "            total_squared_error = trajectory.squared_error(mission)\n",
    "            KpKdError[kp_index, kd_index] += total_squared_error\n",
    "\n",
    "# Calculate the mean error over the 100 simulations\n",
    "KpKdError /= num_missions\n",
    "\n",
    "# Find the indices of the minimum error\n",
    "min_error_index = np.unravel_index(np.argmin(KpKdError), KpKdError.shape)\n",
    "best_Kp = round(KP_VALUES[min_error_index[0]],4)\n",
    "best_Kd = round(KD_VALUES[min_error_index[1]],4)\n",
    "\n",
    "print(f\"Best Kp: {best_Kp}, Best Kd: {best_Kd}, Minimum Mean Error: {KpKdError[min_error_index]}\")"
   ]
  },
  {
   "cell_type": "markdown",
   "metadata": {},
   "source": [
    "Comparing Errors of Inital gain values and optimal gain values"
   ]
  },
  {
   "cell_type": "code",
   "execution_count": null,
   "metadata": {},
   "outputs": [],
   "source": [
    "# Controller with Original Kp and Kd values\n",
    "sub = Submarine()\n",
    "controller = PDController(K_P=0.15, K_D=0.6)\n",
    "closed_loop = ClosedLoop(sub, controller)\n",
    "mission = Mission.from_csv(\"../data/mission.csv\") \n",
    "trajectory = closed_loop.simulate_with_random_disturbances(mission)\n",
    "print(\"Controller With Initial Kp and Kd values\")\n",
    "print(f\"Error Squared is: {trajectory.squared_error(mission)}\")\n",
    "trajectory.plot_completed_mission(mission)\n",
    "\n",
    "\n",
    "# Controller with optimal Kp and Kd values        \n",
    "sub = Submarine()\n",
    "controller = PDController(K_P=best_Kp, K_D=best_Kd)\n",
    "closed_loop = ClosedLoop(sub, controller)\n",
    "mission = Mission.from_csv(\"../data/mission.csv\") \n",
    "trajectory = closed_loop.simulate_with_random_disturbances(mission)\n",
    "print(\"Controller With Optimal Kp and Kd values\")\n",
    "print(f\"Error Squared is: {trajectory.squared_error(mission)}\")\n",
    "trajectory.plot_completed_mission(mission)\n"
   ]
  }
 ],
 "metadata": {
  "kernelspec": {
   "display_name": "B1ScientifiCodingVenV",
   "language": "python",
   "name": "python3"
  },
  "language_info": {
   "codemirror_mode": {
    "name": "ipython",
    "version": 3
   },
   "file_extension": ".py",
   "mimetype": "text/x-python",
   "name": "python",
   "nbconvert_exporter": "python",
   "pygments_lexer": "ipython3",
   "version": "3.12.7"
  }
 },
 "nbformat": 4,
 "nbformat_minor": 2
}
